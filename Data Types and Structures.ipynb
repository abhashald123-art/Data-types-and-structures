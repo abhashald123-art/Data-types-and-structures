{
 "cells": [
  {
   "cell_type": "raw",
   "id": "511d6f35-341c-4135-8938-a4fbc69b8aab",
   "metadata": {},
   "source": [
    "Data Types and Structures Questions"
   ]
  },
  {
   "cell_type": "code",
   "execution_count": null,
   "id": "d0085a72-a79b-4e56-851a-fbea0768156d",
   "metadata": {},
   "outputs": [],
   "source": [
    "# 1. What are data structures, and why are they important?\n",
    "\"\"\"\n",
    "Data structures are a way of organizing and storing data in a computer so that it can be used efficiently.\n",
    "They are important because they give a sytematic  way to organize, store, and manage data so that it can be used \n",
    "efficiently. Without them, information would just be a scattered mess, making it slow and difficult to work with\n",
    "\"\"\""
   ]
  },
  {
   "cell_type": "code",
   "execution_count": null,
   "id": "4a44f707-f9cb-4d13-b9fd-e64e05ebb943",
   "metadata": {},
   "outputs": [],
   "source": [
    "# 2. Explain the difference between mutable and immutable data types with examples.\n",
    "\"\"\"\n",
    "Mutable data types are those whose values or contents can be modified after they are created.\n",
    "Example:- Lists, Dictionaries, sets\n",
    "Immutable data types, conversely, are those whose values or contents cannot be altered once they are created.\n",
    "example:- int, float, bool, str, Tuples\n",
    "\"\"\""
   ]
  },
  {
   "cell_type": "code",
   "execution_count": 1,
   "id": "eeab72df-7b20-4ca8-84e2-65b2d302f5e9",
   "metadata": {},
   "outputs": [
    {
     "name": "stdout",
     "output_type": "stream",
     "text": [
      "[1, 2, 3, 4]\n"
     ]
    }
   ],
   "source": [
    "# Example of mutable data\n",
    "my_list = [1, 2, 3]\n",
    "my_list.append(4)  # Modifies the original list\n",
    "print(my_list)"
   ]
  },
  {
   "cell_type": "code",
   "execution_count": 3,
   "id": "131b7bb2-42a3-4579-85e7-36029c7e53c0",
   "metadata": {},
   "outputs": [
    {
     "name": "stdout",
     "output_type": "stream",
     "text": [
      "(1, 2, 3)\n",
      "(1, 2, 3, 4)\n"
     ]
    }
   ],
   "source": [
    "# Example of immutable data\n",
    "my_tuple = (1, 2, 3)\n",
    "# my_tuple[0] = 4  # This would raise a TypeError\n",
    "new_tuple = my_tuple + (4,) # Creates a new tuple\n",
    "print(my_tuple)\n",
    "print(new_tuple)"
   ]
  },
  {
   "cell_type": "code",
   "execution_count": null,
   "id": "f040c850-619d-492b-8dad-7a0d446e31d7",
   "metadata": {},
   "outputs": [],
   "source": [
    "# 3.  What are the main differences between lists and tuples in Python?\n",
    "\"\"\"\n",
    "List are mutable and Tuple are immutable.\n",
    "List are defined using square brackets [] and Tuple are defined using parentheses ().\n",
    "\"\"\""
   ]
  },
  {
   "cell_type": "code",
   "execution_count": null,
   "id": "4441fb6a-f1e7-4989-b94a-95b22aa58485",
   "metadata": {},
   "outputs": [],
   "source": [
    "# 4.  Describe how dictionaries store data.\n",
    "\"\"\"\n",
    "Dictionaries store data as collections of key-value pairs.\n",
    "Each unique key serves as an identifier, allowing direct access to its associated value.\n",
    "Example :- \n",
    "thisdict = {\"brand\": \"Ford\", \"model\": \"Mustang\", \"year\": 1964}\n",
    "\"\"\""
   ]
  },
  {
   "cell_type": "code",
   "execution_count": 6,
   "id": "41df638b-9a27-46cc-97d3-8bcfd70b4f19",
   "metadata": {},
   "outputs": [],
   "source": [
    "# 5. Why might you use a set instead of a list in Python?\n",
    "\"\"\"\n",
    "Because sets cannot have multiple occurrences of the same element, \n",
    "it makes sets highly useful to efficiently remove duplicate values from a list or tuple and,\n",
    "If you don't want the values in the data to change use set insted of a list.\n",
    "\"\"\""
   ]
  },
  {
   "cell_type": "code",
   "execution_count": null,
   "id": "4ff84257-75fa-4232-a203-10e0cec25767",
   "metadata": {},
   "outputs": [],
   "source": [
    "# 6. What is a string in Python, and how is it different from a list?\n",
    "\"\"\"\n",
    "A string in Python is an ordered sequence of characters, used to represent text. Strings are immutable.\n",
    "They are enclosed in either single quotes (') or double quotes (\"). \n",
    "\n",
    ">> Strings are immutable while lists are mutable.\n",
    ">> Operations like concatenation (+) and repetition (*) work differently fro string and list.\n",
    ">> Strings are useful for representing textual data, while lists are versatile data structures that can store different types of elements.\n",
    "\"\"\""
   ]
  },
  {
   "cell_type": "code",
   "execution_count": null,
   "id": "185dac89-f9b6-4b5d-a50e-434b0f5dccbe",
   "metadata": {},
   "outputs": [],
   "source": [
    "# 7. How do tuples ensure data integrity in Python?\n",
    "\"\"\"\n",
    "Tuples in Python ensure data integrity primarily through their immutability.\n",
    "This means that once a tuple is created, its elements cannot be modified, added, or removed.\n",
    "\"\"\""
   ]
  },
  {
   "cell_type": "code",
   "execution_count": null,
   "id": "04b41367-9c8e-43b4-9889-bdb1a326e746",
   "metadata": {},
   "outputs": [],
   "source": [
    "# 8. What is a hash table, and how does it relate to dictionaries in Python?\n",
    "\"\"\"\n",
    "Hash tables are a type of data structure in which the address/index value of the data element is generated from a hash function. \n",
    "This enables very fast data access as the index value behaves as a key for the data value.\n",
    "In Python, the Dictionary data types represent the implementation of hash tables. \n",
    "The Keys in the dictionary are hashable–they are generated by a hash function\n",
    "which generates a unique result for each unique value supplied to the hash function.\n",
    "\"\"\""
   ]
  },
  {
   "cell_type": "code",
   "execution_count": null,
   "id": "c4c45731-d55f-44ec-b136-b6b13df8f813",
   "metadata": {},
   "outputs": [],
   "source": [
    "# 9. Can lists contain different data types in Python?\n",
    "\"\"\"\n",
    "Yes, Python lists can contain elements of different data types. \n",
    "\"\"\""
   ]
  },
  {
   "cell_type": "code",
   "execution_count": null,
   "id": "298ea74a-6cb3-41be-b2ed-83a4b125f4ed",
   "metadata": {},
   "outputs": [],
   "source": [
    "# 10.  Explain why strings are immutable in Python.\n",
    "\"\"\"\n",
    "Strings in Python are immutable, meaning that once a string object is created, its content cannot be modified.\n",
    "Any operation that appears to \"change\" a string, such as concatenation or replacement,\n",
    "actually results in the creation of a new string object in memory. The variable then points to this new object.\n",
    "\"\"\""
   ]
  },
  {
   "cell_type": "code",
   "execution_count": null,
   "id": "f93111bb-029d-428c-91bc-32f89e90da8b",
   "metadata": {},
   "outputs": [],
   "source": [
    "# 11. What advantages do dictionaries offer over lists for certain tasks?\n",
    "\"\"\"\n",
    "Dictionaries store (key:value) pairs, allow fast lookups by key, and usse meaningful keys instead of numeric indexes,\n",
    "making them ideal for mapping and aviding duplicating keys.\n",
    "\"\"\""
   ]
  },
  {
   "cell_type": "code",
   "execution_count": null,
   "id": "da047163-5214-42ee-ac5f-d1dc85a840ad",
   "metadata": {},
   "outputs": [],
   "source": [
    "# 12. Describe a scenario where using a tuple would be preferable over a list.\n",
    "\"\"\"\n",
    "Use a tuple when the data is fixed/immutable or when you need a hashable record to use a dictionary key or set element.\n",
    "\"\"\""
   ]
  },
  {
   "cell_type": "code",
   "execution_count": null,
   "id": "4325ed10-f976-4062-a6f2-4b0eb4617430",
   "metadata": {},
   "outputs": [],
   "source": [
    "# 13. How do sets handle duplicate values in Python?\n",
    "\"\"\"\n",
    "Python sets are inherently designed to store only unique elements. \n",
    "This means that when you attempt to add a duplicate value to a set, the set simply ignores the addition;\n",
    "it does not raise an error, nor does it store the redundant value. \n",
    "The set will only contain one instance of each distinct element.\n",
    "\"\"\""
   ]
  },
  {
   "cell_type": "code",
   "execution_count": null,
   "id": "03446ff1-c735-49a6-9b44-efddbc0c5d68",
   "metadata": {},
   "outputs": [],
   "source": [
    "# 14. How does the “in” keyword work differently for lists and dictionaries?\n",
    "\"\"\"\n",
    "When using in with a list, Python performs a sequential search through the list's elements.\n",
    "It checks each element one by one from the beginning until it finds a match or reaches the end of the list.\n",
    "\n",
    "When using in with a dictionary, Python checks for the presence of a key, not a value.\n",
    "Dictionaries are implemented using hash tables, which allow for very efficient lookups.\n",
    "\"\"\"\n"
   ]
  },
  {
   "cell_type": "code",
   "execution_count": null,
   "id": "224808f3-4d74-4295-be08-82e24986a4b2",
   "metadata": {},
   "outputs": [],
   "source": [
    "# 15. Can you modify the elements of a tuple? Explain why or why not.\n",
    "\"\"\"\n",
    "The elements of a tuple cannot be modified directly after the tuple has been created.\n",
    "This is because tuples are immutable data types in Python.\n",
    "\"\"\""
   ]
  },
  {
   "cell_type": "code",
   "execution_count": null,
   "id": "34a395a5-e356-452e-90a3-972b3a0ba18a",
   "metadata": {},
   "outputs": [],
   "source": [
    "# 16.  What is a nested dictionary, and give an example of its use case.\n",
    "\"\"\"\n",
    "A nested dictionary is a dictionary that contains another dictionary as a value.\n",
    "It helps organize complex or grouped data, like student details or product info in a clean and structured way.\n",
    "\"\"\"\n",
    "# Example\n",
    "user = {\"aabhash\":{\"age\": 20, \"email\": a@gmail.com},\n",
    "        \"ritik\": {\"age\": 22, \"email\": r@gmail.com}}"
   ]
  },
  {
   "cell_type": "code",
   "execution_count": null,
   "id": "ba955a98-cf2f-48fa-a9bf-adca54534ba4",
   "metadata": {},
   "outputs": [],
   "source": [
    "# 17.  Describe the time complexity of accessing elements in a dictionary.\n",
    "\"\"\"\n",
    "Average-case time complexity for lookup, insertion, and deletion is  O(1) [constant];\n",
    "worst-case can degrade to O(n) in rare pathological cases.\n",
    "\"\"\""
   ]
  },
  {
   "cell_type": "code",
   "execution_count": null,
   "id": "f7914b1f-a291-41a3-a7b2-dd67aeec6ac9",
   "metadata": {},
   "outputs": [],
   "source": [
    "# 18. In what situations are lists preferred over dictionaries.\n",
    "\"\"\"\n",
    "Use list when you need ordered sequences, indexing/slicing, duplicates, or to preseve positional data and perform sequence operations.\n",
    "\"\"\""
   ]
  },
  {
   "cell_type": "code",
   "execution_count": null,
   "id": "ec7f3393-1c04-4484-b8f1-3a3d9f13d937",
   "metadata": {},
   "outputs": [],
   "source": [
    "# 19. Why are dictionaries considered unordered, and how does that affect data retrieval?\n",
    "\"\"\"\n",
    "Dictionaries are considered unordered because they don't guarantee a specific order for their elements.\n",
    "This means the order in which you insert items into a dictionary might not be the same order you get when you iterate through it or print it.\n",
    "This contrasts with ordered data structures like lists or tuples, where the order of elements is preserved. \n",
    "\"\"\""
   ]
  },
  {
   "cell_type": "code",
   "execution_count": null,
   "id": "190891dc-ecba-4c5d-bf17-c98fdd9e2e43",
   "metadata": {},
   "outputs": [],
   "source": [
    "# 20. Explain the difference between a list and a dictionary in terms of data retrieval.\n",
    "\"\"\"\n",
    "A list is an ordered collection of items, whereas a dictionary is an unordered data collection in a key: value pair. \n",
    "Elements from the list can be accessed using the index, while the elements of the dictionary can be accessed using keys.\n",
    "\"\"\""
   ]
  },
  {
   "cell_type": "raw",
   "id": "5fb271fd-86df-4774-a92f-32bd3bd0b8e1",
   "metadata": {},
   "source": [
    "Practical Questions"
   ]
  },
  {
   "cell_type": "code",
   "execution_count": 1,
   "id": "e47ee895-c0a1-4c22-8549-5ef92a3b05a6",
   "metadata": {},
   "outputs": [
    {
     "name": "stdout",
     "output_type": "stream",
     "text": [
      "Aabhash Yadav\n"
     ]
    }
   ],
   "source": [
    "# 1. Write a code to create a string with your name and print it.\n",
    "name = \"Aabhash Yadav\"\n",
    "print(name)"
   ]
  },
  {
   "cell_type": "code",
   "execution_count": 3,
   "id": "8b67be23-4ec0-4433-86e6-a93ae2e9b23d",
   "metadata": {},
   "outputs": [
    {
     "name": "stdout",
     "output_type": "stream",
     "text": [
      "11\n"
     ]
    }
   ],
   "source": [
    "# 2. Write a code to find the length of the string \"Hello World\".\n",
    "my_string = \"Hello World\"\n",
    "length = len(my_string)\n",
    "print(length)"
   ]
  },
  {
   "cell_type": "code",
   "execution_count": 9,
   "id": "352338c4-4b71-49d1-9c68-a365f856c82e",
   "metadata": {},
   "outputs": [
    {
     "data": {
      "text/plain": [
       "'Pyt'"
      ]
     },
     "execution_count": 9,
     "metadata": {},
     "output_type": "execute_result"
    }
   ],
   "source": [
    "# 3. Write a code to slice the first 3 characters from the string \"Python Programming\"\n",
    "string1 = \"Python Programming\"\n",
    "string1[0:3]"
   ]
  },
  {
   "cell_type": "code",
   "execution_count": 19,
   "id": "e059a7fc-36f0-461d-af4d-0c2bd9396143",
   "metadata": {},
   "outputs": [
    {
     "data": {
      "text/plain": [
       "'HELLO'"
      ]
     },
     "execution_count": 19,
     "metadata": {},
     "output_type": "execute_result"
    }
   ],
   "source": [
    "# 4. Write a code to convert the string \"hello\" to uppercase.\n",
    "string2 = \"hello\"\n",
    "string2.upper()"
   ]
  },
  {
   "cell_type": "code",
   "execution_count": 16,
   "id": "8b402319-a872-4ccd-9852-89a8930f0c1b",
   "metadata": {},
   "outputs": [
    {
     "data": {
      "text/plain": [
       "'I like orange'"
      ]
     },
     "execution_count": 16,
     "metadata": {},
     "output_type": "execute_result"
    }
   ],
   "source": [
    "# 5. Write a code to replace the word \"apple\" with \"orange\" in the string \"I like apple\".\n",
    "string3 = \"I like apple\"\n",
    "string3.replace(\"apple\",\"orange\")"
   ]
  },
  {
   "cell_type": "code",
   "execution_count": 17,
   "id": "a275e94e-171b-469c-8047-5717938584a5",
   "metadata": {},
   "outputs": [
    {
     "name": "stdout",
     "output_type": "stream",
     "text": [
      "[1, 2, 3, 4, 5]\n"
     ]
    }
   ],
   "source": [
    "# 6. Write a code to create a list with numbers 1 to 5 and print it.\n",
    "numbers = [1, 2, 3, 4, 5]\n",
    "print(numbers)"
   ]
  },
  {
   "cell_type": "code",
   "execution_count": 23,
   "id": "51786f14-581a-4eb9-9443-7d0987503dc2",
   "metadata": {},
   "outputs": [
    {
     "name": "stdout",
     "output_type": "stream",
     "text": [
      "[1, 2, 3, 4, 10]\n"
     ]
    }
   ],
   "source": [
    "# 7. Write a code to append the number 10 to the list [1, 2, 3, 4].\n",
    "number1 = [1, 2, 3, 4]\n",
    "number1.append(10)\n",
    "print(number1)"
   ]
  },
  {
   "cell_type": "code",
   "execution_count": 25,
   "id": "31e0ac1c-561f-45f6-abe6-ef590cdd2a35",
   "metadata": {},
   "outputs": [
    {
     "name": "stdout",
     "output_type": "stream",
     "text": [
      "[1, 2, 4, 5]\n"
     ]
    }
   ],
   "source": [
    "# 8. Write a code to remove the number 3 from the list [1, 2, 3, 4, 5].\n",
    "number2 = [1, 2, 3, 4, 5]\n",
    "number2.remove(3)\n",
    "print(number2)"
   ]
  },
  {
   "cell_type": "code",
   "execution_count": 26,
   "id": "42f03979-88bc-45af-8105-cb3c7089624d",
   "metadata": {},
   "outputs": [
    {
     "data": {
      "text/plain": [
       "'b'"
      ]
     },
     "execution_count": 26,
     "metadata": {},
     "output_type": "execute_result"
    }
   ],
   "source": [
    "# 9. Write a code to access the second element in the list ['a', 'b', 'c', 'd'].\n",
    "element = ['a', 'b', 'c', 'd']\n",
    "element[1]"
   ]
  },
  {
   "cell_type": "code",
   "execution_count": 28,
   "id": "2971206d-0c16-46a7-8d2e-8412a8dda862",
   "metadata": {},
   "outputs": [
    {
     "name": "stdout",
     "output_type": "stream",
     "text": [
      "[50, 40, 30, 20, 10]\n"
     ]
    }
   ],
   "source": [
    "# 10. Write a code to reverse the list [10, 20, 30, 40, 50].\n",
    "list1 = [10, 20, 30, 40, 50]\n",
    "list1.reverse()\n",
    "print(list1)"
   ]
  },
  {
   "cell_type": "code",
   "execution_count": 30,
   "id": "eda36d4e-27f4-4e13-b708-8b8b4a6c4f84",
   "metadata": {},
   "outputs": [
    {
     "name": "stdout",
     "output_type": "stream",
     "text": [
      "(100, 200, 300)\n"
     ]
    }
   ],
   "source": [
    "# 11. Write a code to create a tuple with the elements 100, 200, 300 and print it.\n",
    "my_tuple = (100, 200, 300)\n",
    "print(my_tuple)"
   ]
  },
  {
   "cell_type": "code",
   "execution_count": 33,
   "id": "ce08f375-bea6-4c8f-a09e-c2045b7340c4",
   "metadata": {},
   "outputs": [
    {
     "data": {
      "text/plain": [
       "('green', 'blue', 'yellow')"
      ]
     },
     "execution_count": 33,
     "metadata": {},
     "output_type": "execute_result"
    }
   ],
   "source": [
    "# 12.  Write a code to access the second-to-last element of the tuple ('red', 'green', 'blue', 'yellow').\n",
    "tuple1 = ('red', 'green', 'blue', 'yellow')\n",
    "tuple1[1:]"
   ]
  },
  {
   "cell_type": "code",
   "execution_count": 34,
   "id": "43758ca0-8ed4-4b7c-9690-23cba581295b",
   "metadata": {},
   "outputs": [
    {
     "data": {
      "text/plain": [
       "5"
      ]
     },
     "execution_count": 34,
     "metadata": {},
     "output_type": "execute_result"
    }
   ],
   "source": [
    "# 13. Write a code to find the minimum number in the tuple (10, 20, 5, 15).\n",
    "tuple2 = (10, 20, 5, 15)\n",
    "min(tuple2)"
   ]
  },
  {
   "cell_type": "code",
   "execution_count": 35,
   "id": "61c21fdc-5142-4a33-ab6f-6d417af975df",
   "metadata": {},
   "outputs": [
    {
     "data": {
      "text/plain": [
       "1"
      ]
     },
     "execution_count": 35,
     "metadata": {},
     "output_type": "execute_result"
    }
   ],
   "source": [
    "# 14. Write a code to find the index of the element \"cat\" in the tuple ('dog', 'cat', 'rabbit').\n",
    "tuple3 = ('dog', 'cat', 'rabbit')\n",
    "tuple3.index('cat')"
   ]
  },
  {
   "cell_type": "code",
   "execution_count": 36,
   "id": "7dd0e168-7f2c-4bae-bede-0c3ccdb8049e",
   "metadata": {},
   "outputs": [
    {
     "data": {
      "text/plain": [
       "True"
      ]
     },
     "execution_count": 36,
     "metadata": {},
     "output_type": "execute_result"
    }
   ],
   "source": [
    "# 15. Write a code to create a tuple containing three different fruits and check if \"kiwi\" is in it.\n",
    "tuple4 = ('apple', 'mango', 'kiwi')\n",
    "'kiwi' in tuple4"
   ]
  },
  {
   "cell_type": "code",
   "execution_count": 38,
   "id": "4b9a8271-5a12-4359-8007-cc91a3701dea",
   "metadata": {},
   "outputs": [
    {
     "name": "stdout",
     "output_type": "stream",
     "text": [
      "{'a', 'c', 'b'}\n"
     ]
    }
   ],
   "source": [
    "# 16. Write a code to create a set with the elements 'a', 'b', 'c' and print it.\n",
    "my_set = {'a', 'b', 'c'}\n",
    "print(my_set)"
   ]
  },
  {
   "cell_type": "code",
   "execution_count": 40,
   "id": "fefb7022-c860-4981-836c-bc9314d3b5c6",
   "metadata": {},
   "outputs": [
    {
     "name": "stdout",
     "output_type": "stream",
     "text": [
      "set()\n"
     ]
    }
   ],
   "source": [
    "# 17. Write a code to clear all elements from the set {1, 2, 3, 4, 5}.\n",
    "set11 = {1, 2, 3, 4, 5}\n",
    "set11.clear()\n",
    "print(set11)"
   ]
  },
  {
   "cell_type": "code",
   "execution_count": 41,
   "id": "5ddc971a-dfbe-4061-bbff-3ea4f1ee4894",
   "metadata": {},
   "outputs": [
    {
     "name": "stdout",
     "output_type": "stream",
     "text": [
      "{1, 2, 3}\n"
     ]
    }
   ],
   "source": [
    "# 18. Write a code to remove the element 4 from the set {1, 2, 3, 4}.\n",
    "set22 = {1, 2, 3, 4}\n",
    "set22.remove(4)\n",
    "print(set22)"
   ]
  },
  {
   "cell_type": "code",
   "execution_count": 42,
   "id": "f424695d-77c5-4995-9299-da78184ab0a5",
   "metadata": {},
   "outputs": [
    {
     "name": "stdout",
     "output_type": "stream",
     "text": [
      "{1, 2, 3, 4, 5}\n"
     ]
    }
   ],
   "source": [
    "# 19. Write a code to find the union of two sets {1, 2, 3} and {3, 4, 5}.\n",
    "set44 = {1, 2, 3}\n",
    "set55 = {3, 4, 5}\n",
    "union_set = set44.union(set55)\n",
    "print(union_set)"
   ]
  },
  {
   "cell_type": "code",
   "execution_count": 44,
   "id": "65c4226b-58bb-4b83-b8e5-4234827498dc",
   "metadata": {},
   "outputs": [
    {
     "name": "stdout",
     "output_type": "stream",
     "text": [
      "{2, 3}\n"
     ]
    }
   ],
   "source": [
    "# 20.  Write a code to find the intersection of two sets {1, 2, 3} and {2, 3, 4}.\n",
    "set66 = {1, 2, 3}\n",
    "set77 = {2, 3, 4}\n",
    "inters_set = set66.intersection(set77)\n",
    "print(inters_set)"
   ]
  },
  {
   "cell_type": "code",
   "execution_count": 3,
   "id": "f0227005-f989-4d82-9637-f444f516368b",
   "metadata": {},
   "outputs": [
    {
     "name": "stdout",
     "output_type": "stream",
     "text": [
      "{'name': 'Aabhash Yadav', 'age': 20, 'city': 'Prayagraj'}\n"
     ]
    }
   ],
   "source": [
    "# 21. Write a code to create a dictionary with the keys \"name\", \"age\", and \"city\", and print it.\n",
    "info = {'name': 'Aabhash Yadav', 'age': 20, 'city': 'Prayagraj'}\n",
    "print(info)"
   ]
  },
  {
   "cell_type": "code",
   "execution_count": 4,
   "id": "ccf7f23b-89f6-4fe4-852d-cfac50c99d7d",
   "metadata": {},
   "outputs": [
    {
     "name": "stdout",
     "output_type": "stream",
     "text": [
      "{'name': 'John', 'age': 25, 'country': 'USA'}\n"
     ]
    }
   ],
   "source": [
    "# 22. Write a code to add a new key-value pair \"country\": \"USA\" to the dictionary {'name': 'John', 'age': 25}.\n",
    "my_dict = {'name': 'John', 'age': 25}\n",
    "my_dict['country'] = 'USA'\n",
    "print(my_dict)"
   ]
  },
  {
   "cell_type": "code",
   "execution_count": 5,
   "id": "2522aaa1-a1b3-46a6-a38b-530c85a863ae",
   "metadata": {},
   "outputs": [
    {
     "data": {
      "text/plain": [
       "'Alice'"
      ]
     },
     "execution_count": 5,
     "metadata": {},
     "output_type": "execute_result"
    }
   ],
   "source": [
    "# 23. Write a code to access the value associated with the key \"name\" in the dictionary {'name': 'Alice', 'age': 30}.\n",
    "dict1 = {'name': 'Alice', 'age': 30}\n",
    "dict1[\"name\"]"
   ]
  },
  {
   "cell_type": "code",
   "execution_count": 10,
   "id": "23291d7a-8c62-4f1a-9556-b8a0bf599531",
   "metadata": {},
   "outputs": [
    {
     "name": "stdout",
     "output_type": "stream",
     "text": [
      "{'name': 'Bob', 'city': 'New York'}\n"
     ]
    }
   ],
   "source": [
    "# 24. Write a code to remove the key \"age\" from the dictionary {'name': 'Bob', 'age': 22, 'city': 'New York'}.\n",
    "dict2 = {'name': 'Bob', 'age': 22, 'city': 'New York'}\n",
    "dict2.pop(\"age\")\n",
    "print(dict2)"
   ]
  },
  {
   "cell_type": "code",
   "execution_count": 4,
   "id": "58da938b-370c-415a-96ad-043a147499ba",
   "metadata": {},
   "outputs": [
    {
     "name": "stdout",
     "output_type": "stream",
     "text": [
      "city is present in the dictionary\n"
     ]
    }
   ],
   "source": [
    "# 25. Write a code to check if the key \"city\" exists in the dictionary {'name': 'Alice', 'city': 'Paris'}.\n",
    "dict3 = {'name': 'Alice', 'city': 'Paris'}\n",
    "if 'city' in dict3:\n",
    "    print('city is present in the dictionary')\n",
    "else:\n",
    "    print('city is not present in the dictionary')"
   ]
  },
  {
   "cell_type": "code",
   "execution_count": 5,
   "id": "53022336-5e7d-4369-953f-c35e07eb741e",
   "metadata": {},
   "outputs": [
    {
     "name": "stdout",
     "output_type": "stream",
     "text": [
      "List: [1, 2, 3, 4, 5]\n",
      "Tuple: ('apple', 'banana', 'cherry')\n",
      "Dictionary: {'name': 'Bob', 'age': 22, 'city': 'New York'}\n"
     ]
    }
   ],
   "source": [
    "# 26. Write a code to create a list, a tuple, and a dictionary, and print them all.\n",
    "my_list1 = [1, 2, 3, 4, 5]\n",
    "my_tuple1 = ('apple', 'banana', 'cherry')\n",
    "my_dict1 = {'name': 'Bob', 'age': 22, 'city': 'New York'}\n",
    "print('List:', my_list1)\n",
    "print('Tuple:', my_tuple1)\n",
    "print('Dictionary:', my_dict1)"
   ]
  },
  {
   "cell_type": "code",
   "execution_count": 11,
   "id": "3e7be85b-b9fb-427e-8751-a6bd7914fa95",
   "metadata": {},
   "outputs": [
    {
     "name": "stdout",
     "output_type": "stream",
     "text": [
      "Original List: [11, 8, 6, 78, 30]\n",
      "Sorted List: [6, 8, 11, 30, 78]\n"
     ]
    }
   ],
   "source": [
    "# 27.  Write a code to create a list of 5 random numbers between 1 and 100, sort it in ascending order, and print the result.(replaced)\n",
    "import random\n",
    "numbers = random.sample(range(1,101),5)\n",
    "random.shuffle(numbers)\n",
    "sorted_numbers = sorted(numbers)\n",
    "print('Original List:', numbers)\n",
    "print('Sorted List:', sorted_numbers)"
   ]
  },
  {
   "cell_type": "code",
   "execution_count": 12,
   "id": "e3b26198-435f-4930-9c69-6e913fd54685",
   "metadata": {},
   "outputs": [
    {
     "data": {
      "text/plain": [
       "'ram'"
      ]
     },
     "execution_count": 12,
     "metadata": {},
     "output_type": "execute_result"
    }
   ],
   "source": [
    "# 28. Write a code to create a list with strings and print the element at the third index\n",
    "list111 = ['apple', 'banana', 'mango', 'ram', 'rahul']\n",
    "list111[3]"
   ]
  },
  {
   "cell_type": "code",
   "execution_count": 14,
   "id": "96d4889f-d9a6-4fd4-b700-dc8ed11cac46",
   "metadata": {},
   "outputs": [
    {
     "name": "stdout",
     "output_type": "stream",
     "text": [
      "{'name': 'aabhash', 'age': 20, 'city': 'prayagraj', 'country': 'India'}\n"
     ]
    }
   ],
   "source": [
    "# 29. Write a code to combine two dictionaries into one and print the result.\n",
    "dict1 = {'name': 'aabhash', 'age': 20}\n",
    "dict2 = {'city': 'prayagraj', 'country': 'India'}\n",
    "dict1.update(dict2)\n",
    "print(dict1)"
   ]
  },
  {
   "cell_type": "code",
   "execution_count": null,
   "id": "a2ddab70-9ec9-4b86-89da-5f68374d3e28",
   "metadata": {},
   "outputs": [],
   "source": [
    "# 30. Write a code to convert a list of strings into a set.\n",
    "list111 = ['apple', 'banana', 'mango', 'ram', 'rahul']\n"
   ]
  }
 ],
 "metadata": {
  "kernelspec": {
   "display_name": "Python 3 (ipykernel)",
   "language": "python",
   "name": "python3"
  },
  "language_info": {
   "codemirror_mode": {
    "name": "ipython",
    "version": 3
   },
   "file_extension": ".py",
   "mimetype": "text/x-python",
   "name": "python",
   "nbconvert_exporter": "python",
   "pygments_lexer": "ipython3",
   "version": "3.13.5"
  }
 },
 "nbformat": 4,
 "nbformat_minor": 5
}
